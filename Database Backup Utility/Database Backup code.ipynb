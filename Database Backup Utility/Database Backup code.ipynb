{
 "cells": [
  {
   "cell_type": "code",
   "execution_count": 5,
   "id": "05c85a0e-a949-443b-aa70-9643c51fc148",
   "metadata": {},
   "outputs": [
    {
     "name": "stdout",
     "output_type": "stream",
     "text": [
      "Defaulting to user installation because normal site-packages is not writeable\n",
      "Requirement already satisfied: boto3 in c:\\users\\krish\\appdata\\roaming\\python\\python313\\site-packages (1.40.24)\n",
      "Requirement already satisfied: botocore in c:\\users\\krish\\appdata\\roaming\\python\\python313\\site-packages (1.40.24)\n",
      "Requirement already satisfied: jmespath<2.0.0,>=0.7.1 in c:\\programdata\\anaconda3\\lib\\site-packages (from boto3) (1.0.1)\n",
      "Requirement already satisfied: s3transfer<0.14.0,>=0.13.0 in c:\\users\\krish\\appdata\\roaming\\python\\python313\\site-packages (from boto3) (0.13.1)\n",
      "Requirement already satisfied: python-dateutil<3.0.0,>=2.1 in c:\\programdata\\anaconda3\\lib\\site-packages (from botocore) (2.9.0.post0)\n",
      "Requirement already satisfied: urllib3!=2.2.0,<3,>=1.25.4 in c:\\programdata\\anaconda3\\lib\\site-packages (from botocore) (2.3.0)\n",
      "Requirement already satisfied: six>=1.5 in c:\\programdata\\anaconda3\\lib\\site-packages (from python-dateutil<3.0.0,>=2.1->botocore) (1.17.0)\n",
      "Note: you may need to restart the kernel to use updated packages.\n"
     ]
    }
   ],
   "source": [
    "%pip install --upgrade boto3 botocore"
   ]
  },
  {
   "cell_type": "code",
   "execution_count": 6,
   "id": "9a10c73e-8435-43c1-b8b2-5b1f348f87c0",
   "metadata": {},
   "outputs": [],
   "source": [
    "import os\n",
    "import datetime\n",
    "import gzip\n",
    "import shutil\n",
    "import logging\n",
    "from pathlib import Path\n",
    "from dotenv import load_dotenv\n",
    "\n",
    "# Database libraries\n",
    "import pymysql\n",
    "import psycopg2\n",
    "from pymongo import MongoClient\n",
    "import sqlite3\n",
    "\n",
    "# AWS S3\n",
    "import boto3\n"
   ]
  },
  {
   "cell_type": "code",
   "execution_count": 7,
   "id": "95f9f62b-6407-4880-ae48-7124af3ed148",
   "metadata": {},
   "outputs": [],
   "source": [
    "# Configure logging\n",
    "log_file = \"db_backup.log\"\n",
    "logging.basicConfig(filename=log_file, \n",
    "                    level=logging.INFO, \n",
    "                    format='%(asctime)s - %(levelname)s - %(message)s')\n",
    "\n",
    "def log(msg, level=\"info\"):\n",
    "    if level == \"info\":\n",
    "        logging.info(msg)\n",
    "    elif level == \"error\":\n",
    "        logging.error(msg)\n",
    "    print(msg)"
   ]
  },
  {
   "cell_type": "code",
   "execution_count": 8,
   "id": "e9fb3070-96f0-4a9b-8d96-11ea11193ebb",
   "metadata": {},
   "outputs": [],
   "source": [
    "def test_mysql_connection(host, port, user, password, database):\n",
    "    try:\n",
    "        conn = pymysql.connect(host=host, port=port, user=user, password=password, database=database)\n",
    "        conn.close()\n",
    "        log(f\"MySQL connection to '{database}' successful.\")\n",
    "        return True\n",
    "    except Exception as e:\n",
    "        log(f\"MySQL connection error: {e}\", \"error\")\n",
    "        return False\n",
    "\n",
    "def test_postgresql_connection(host, port, user, password, database):\n",
    "    try:\n",
    "        conn = psycopg2.connect(host=host, port=port, user=user, password=password, dbname=database)\n",
    "        conn.close()\n",
    "        log(f\"PostgreSQL connection to '{database}' successful.\")\n",
    "        return True\n",
    "    except Exception as e:\n",
    "        log(f\"PostgreSQL connection error: {e}\", \"error\")\n",
    "        return False\n",
    "\n",
    "def test_mongodb_connection(uri):\n",
    "    try:\n",
    "        client = MongoClient(uri)\n",
    "        client.admin.command('ping')\n",
    "        log(\"MongoDB connection successful.\")\n",
    "        return True\n",
    "    except Exception as e:\n",
    "        log(f\"MongoDB connection error: {e}\", \"error\")\n",
    "        return False\n",
    "\n",
    "def test_sqlite_connection(db_path):\n",
    "    try:\n",
    "        conn = sqlite3.connect(db_path)\n",
    "        conn.close()\n",
    "        log(f\"SQLite connection to '{db_path}' successful.\")\n",
    "        return True\n",
    "    except Exception as e:\n",
    "        log(f\"SQLite connection error: {e}\", \"error\")\n",
    "        return False"
   ]
  },
  {
   "cell_type": "code",
   "execution_count": 9,
   "id": "16b96070-8ea3-4feb-ac12-9f02bca28d1e",
   "metadata": {},
   "outputs": [],
   "source": [
    "def backup_mysql(host, port, user, password, database, backup_path):\n",
    "    timestamp = datetime.datetime.now().strftime(\"%Y%m%d%H%M%S\")\n",
    "    backup_file = f\"{backup_path}/{database}_{timestamp}.sql\"\n",
    "    os.system(f\"mysqldump -h {host} -P {port} -u {user} -p{password} {database} > {backup_file}\")\n",
    "    compress_file(backup_file)\n",
    "    log(f\"MySQL backup completed: {backup_file}.gz\")\n",
    "    return backup_file + \".gz\"\n",
    "\n",
    "def backup_postgresql(host, port, user, password, database, backup_path):\n",
    "    timestamp = datetime.datetime.now().strftime(\"%Y%m%d%H%M%S\")\n",
    "    backup_file = f\"{backup_path}/{database}_{timestamp}.sql\"\n",
    "    os.system(f\"PGPASSWORD={password} pg_dump -h {host} -p {port} -U {user} -d {database} -F c -b -v -f {backup_file}\")\n",
    "    compress_file(backup_file)\n",
    "    log(f\"PostgreSQL backup completed: {backup_file}.gz\")\n",
    "    return backup_file + \".gz\"\n",
    "\n",
    "def backup_sqlite(db_path, backup_path):\n",
    "    timestamp = datetime.datetime.now().strftime(\"%Y%m%d%H%M%S\")\n",
    "    db_name = os.path.basename(db_path).split(\".\")[0]\n",
    "    backup_file = f\"{backup_path}/{db_name}_{timestamp}.db\"\n",
    "    shutil.copy2(db_path, backup_file)\n",
    "    compress_file(backup_file)\n",
    "    log(f\"SQLite backup completed: {backup_file}.gz\")\n",
    "    return backup_file + \".gz\"\n",
    "\n",
    "def backup_mongodb(uri, db_name, backup_path):\n",
    "    timestamp = datetime.datetime.now().strftime(\"%Y%m%d%H%M%S\")\n",
    "    backup_file = f\"{backup_path}/{db_name}_{timestamp}\"\n",
    "    os.system(f\"mongodump --uri='{uri}' --db {db_name} --out {backup_file}\")\n",
    "    shutil.make_archive(backup_file, 'gztar', backup_file)\n",
    "    shutil.rmtree(backup_file)  # remove uncompressed dump\n",
    "    log(f\"MongoDB backup completed: {backup_file}.tar.gz\")\n",
    "    return backup_file + \".tar.gz\"\n",
    "\n",
    "def compress_file(file_path):\n",
    "    with open(file_path, 'rb') as f_in, gzip.open(file_path + '.gz', 'wb') as f_out:\n",
    "        shutil.copyfileobj(f_in, f_out)\n",
    "    os.remove(file_path)  # remove original"
   ]
  },
  {
   "cell_type": "code",
   "execution_count": 10,
   "id": "d5c4b943-192b-4137-b879-0b81f8ae4ec6",
   "metadata": {},
   "outputs": [],
   "source": [
    "def upload_to_s3(file_path, bucket_name, s3_key):\n",
    "    s3 = boto3.client('s3')\n",
    "    try:\n",
    "        s3.upload_file(file_path, bucket_name, s3_key)\n",
    "        log(f\"Backup uploaded to S3: s3://{bucket_name}/{s3_key}\")\n",
    "        return True\n",
    "    except Exception as e:\n",
    "        log(f\"S3 upload failed: {e}\", \"error\")\n",
    "        return False"
   ]
  },
  {
   "cell_type": "code",
   "execution_count": 11,
   "id": "85bb23f2-b160-4cc8-9e99-67bb042be452",
   "metadata": {},
   "outputs": [],
   "source": [
    "def restore_mysql(host, port, user, password, database, backup_file_gz):\n",
    "    backup_file = backup_file_gz.replace('.gz', '')\n",
    "    with gzip.open(backup_file_gz, 'rb') as f_in, open(backup_file, 'wb') as f_out:\n",
    "        shutil.copyfileobj(f_in, f_out)\n",
    "    os.system(f\"mysql -h {host} -P {port} -u {user} -p{password} {database} < {backup_file}\")\n",
    "    os.remove(backup_file)\n",
    "    log(f\"MySQL restore completed from: {backup_file_gz}\")"
   ]
  },
  {
   "cell_type": "code",
   "execution_count": 12,
   "id": "5c9132ce-7960-4a53-b420-aa5a2b394a29",
   "metadata": {},
   "outputs": [
    {
     "name": "stdout",
     "output_type": "stream",
     "text": [
      "MySQL backup completed: backups/test_db_20250904191852.sql.gz\n"
     ]
    },
    {
     "data": {
      "text/plain": [
       "'backups/test_db_20250904191852.sql.gz'"
      ]
     },
     "execution_count": 12,
     "metadata": {},
     "output_type": "execute_result"
    }
   ],
   "source": [
    "backup_dir = \"backups\"\n",
    "os.makedirs(backup_dir, exist_ok=True)\n",
    "\n",
    "# MySQL backup example\n",
    "backup_mysql(host=\"localhost\", port=3306, user=\"root\", password=\"rootpass\", database=\"test_db\", backup_path=backup_dir)\n",
    "\n",
    "# PostgreSQL backup example\n",
    "# backup_postgresql(host=\"localhost\", port=5432, user=\"postgres\", password=\"pass\", database=\"test_db\", backup_path=backup_dir)\n",
    "\n",
    "# SQLite backup example\n",
    "# backup_sqlite(db_path=\"example.db\", backup_path=backup_dir)\n",
    "\n",
    "# MongoDB backup example\n",
    "# backup_mongodb(uri=\"mongodb://localhost:27017\", db_name=\"test_db\", backup_path=backup_dir)"
   ]
  },
  {
   "cell_type": "code",
   "execution_count": null,
   "id": "cbd63016-a95c-43ba-b0a3-1021b21d4c0a",
   "metadata": {},
   "outputs": [],
   "source": []
  }
 ],
 "metadata": {
  "kernelspec": {
   "display_name": "Python 3 (ipykernel)",
   "language": "python",
   "name": "python3"
  },
  "language_info": {
   "codemirror_mode": {
    "name": "ipython",
    "version": 3
   },
   "file_extension": ".py",
   "mimetype": "text/x-python",
   "name": "python",
   "nbconvert_exporter": "python",
   "pygments_lexer": "ipython3",
   "version": "3.13.5"
  }
 },
 "nbformat": 4,
 "nbformat_minor": 5
}
